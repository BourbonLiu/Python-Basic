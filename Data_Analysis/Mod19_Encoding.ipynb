{
 "cells": [
  {
   "cell_type": "code",
   "execution_count": 26,
   "id": "cd760523",
   "metadata": {},
   "outputs": [],
   "source": [
    "import numpy as np\n",
    "import pandas as pd\n",
    "from sklearn.preprocessing import LabelEncoder\n",
    "from sklearn.preprocessing import OneHotEncoder"
   ]
  },
  {
   "cell_type": "code",
   "execution_count": 75,
   "id": "ee78c4f0",
   "metadata": {},
   "outputs": [
    {
     "data": {
      "text/html": [
       "<div>\n",
       "<style scoped>\n",
       "    .dataframe tbody tr th:only-of-type {\n",
       "        vertical-align: middle;\n",
       "    }\n",
       "\n",
       "    .dataframe tbody tr th {\n",
       "        vertical-align: top;\n",
       "    }\n",
       "\n",
       "    .dataframe thead th {\n",
       "        text-align: right;\n",
       "    }\n",
       "</style>\n",
       "<table border=\"1\" class=\"dataframe\">\n",
       "  <thead>\n",
       "    <tr style=\"text-align: right;\">\n",
       "      <th></th>\n",
       "      <th>color</th>\n",
       "      <th>size</th>\n",
       "      <th>price</th>\n",
       "      <th>classlabel</th>\n",
       "    </tr>\n",
       "  </thead>\n",
       "  <tbody>\n",
       "    <tr>\n",
       "      <th>0</th>\n",
       "      <td>green</td>\n",
       "      <td>M</td>\n",
       "      <td>10.1</td>\n",
       "      <td>class1</td>\n",
       "    </tr>\n",
       "    <tr>\n",
       "      <th>1</th>\n",
       "      <td>red</td>\n",
       "      <td>L</td>\n",
       "      <td>13.5</td>\n",
       "      <td>class2</td>\n",
       "    </tr>\n",
       "    <tr>\n",
       "      <th>2</th>\n",
       "      <td>blue</td>\n",
       "      <td>XL</td>\n",
       "      <td>15.3</td>\n",
       "      <td>class1</td>\n",
       "    </tr>\n",
       "  </tbody>\n",
       "</table>\n",
       "</div>"
      ],
      "text/plain": [
       "   color size  price classlabel\n",
       "0  green    M   10.1     class1\n",
       "1    red    L   13.5     class2\n",
       "2   blue   XL   15.3     class1"
      ]
     },
     "execution_count": 75,
     "metadata": {},
     "output_type": "execute_result"
    }
   ],
   "source": [
    "df = pd.DataFrame([['green', 'M', 10.1, 'class1'], ['red','L', 13.5, 'class2'], ['blue', 'XL', 15.3, 'class1']])\n",
    "df.columns = ['color', 'size', 'price', 'classlabel']\n",
    "df"
   ]
  },
  {
   "cell_type": "markdown",
   "id": "345bebdd",
   "metadata": {},
   "source": [
    "#### 透過字典自行編碼"
   ]
  },
  {
   "cell_type": "code",
   "execution_count": 76,
   "id": "7ef280a3",
   "metadata": {},
   "outputs": [
    {
     "data": {
      "text/html": [
       "<div>\n",
       "<style scoped>\n",
       "    .dataframe tbody tr th:only-of-type {\n",
       "        vertical-align: middle;\n",
       "    }\n",
       "\n",
       "    .dataframe tbody tr th {\n",
       "        vertical-align: top;\n",
       "    }\n",
       "\n",
       "    .dataframe thead th {\n",
       "        text-align: right;\n",
       "    }\n",
       "</style>\n",
       "<table border=\"1\" class=\"dataframe\">\n",
       "  <thead>\n",
       "    <tr style=\"text-align: right;\">\n",
       "      <th></th>\n",
       "      <th>color</th>\n",
       "      <th>size</th>\n",
       "      <th>price</th>\n",
       "      <th>classlabel</th>\n",
       "    </tr>\n",
       "  </thead>\n",
       "  <tbody>\n",
       "    <tr>\n",
       "      <th>0</th>\n",
       "      <td>green</td>\n",
       "      <td>1</td>\n",
       "      <td>10.1</td>\n",
       "      <td>class1</td>\n",
       "    </tr>\n",
       "    <tr>\n",
       "      <th>1</th>\n",
       "      <td>red</td>\n",
       "      <td>2</td>\n",
       "      <td>13.5</td>\n",
       "      <td>class2</td>\n",
       "    </tr>\n",
       "    <tr>\n",
       "      <th>2</th>\n",
       "      <td>blue</td>\n",
       "      <td>3</td>\n",
       "      <td>15.3</td>\n",
       "      <td>class1</td>\n",
       "    </tr>\n",
       "  </tbody>\n",
       "</table>\n",
       "</div>"
      ],
      "text/plain": [
       "   color  size  price classlabel\n",
       "0  green     1   10.1     class1\n",
       "1    red     2   13.5     class2\n",
       "2   blue     3   15.3     class1"
      ]
     },
     "execution_count": 76,
     "metadata": {},
     "output_type": "execute_result"
    }
   ],
   "source": [
    "size_mapping = {'XL': 3, 'L': 2, 'M': 1}\n",
    "df['size'] = df['size'].map(size_mapping); df"
   ]
  },
  {
   "cell_type": "markdown",
   "id": "31b0d704",
   "metadata": {},
   "source": [
    "####  Label Encoding : 較適合應用在原始資料是有序離散值"
   ]
  },
  {
   "cell_type": "code",
   "execution_count": 77,
   "id": "1bbb8dff",
   "metadata": {},
   "outputs": [
    {
     "name": "stdout",
     "output_type": "stream",
     "text": [
      "[['green' 1 10.1]\n",
      " ['red' 2 13.5]\n",
      " ['blue' 3 15.3]]\n",
      "--------------------\n",
      "[[1 1 10.1]\n",
      " [2 2 13.5]\n",
      " [0 3 15.3]]\n"
     ]
    }
   ],
   "source": [
    "lb_e = LabelEncoder()                                \n",
    "X = df[['color', 'size', 'price']].values; print(X, end=\"\\n--------------------\\n\")\n",
    "X[:, 0] = lb_e.fit_transform(X[:, 0]); print(X)"
   ]
  },
  {
   "cell_type": "code",
   "execution_count": 78,
   "id": "58a61caf",
   "metadata": {
    "scrolled": true
   },
   "outputs": [
    {
     "name": "stdout",
     "output_type": "stream",
     "text": [
      "[0 1 0]\n",
      "['class1' 'class2' 'class1']\n"
     ]
    }
   ],
   "source": [
    "y = class_le.fit_transform(df['classlabel'])             # 把classlabel欄位進行標籤編碼\n",
    "print(y)\n",
    "print(class_le.inverse_transform(y.reshape(3,)))         # 把classlabel欄位取消編碼"
   ]
  },
  {
   "cell_type": "markdown",
   "id": "eae587be",
   "metadata": {},
   "source": [
    "#### One Hot Encoding : 較適合應用在原始資料是無序離散值\n"
   ]
  },
  {
   "cell_type": "code",
   "execution_count": 89,
   "id": "29dd6f1d",
   "metadata": {},
   "outputs": [
    {
     "name": "stdout",
     "output_type": "stream",
     "text": [
      "[[0. 1. 0. 1. 0. 0.]\n",
      " [0. 0. 1. 0. 1. 0.]\n",
      " [1. 0. 0. 0. 0. 1.]]\n",
      "--------------------\n",
      "[['green' 10.1]\n",
      " ['red' 13.5]\n",
      " ['blue' 15.3]]\n"
     ]
    }
   ],
   "source": [
    "oh_e = OneHotEncoder()\n",
    "z = oh_e.fit_transform(df[['color','price']]).toarray()   # 單熱編碼後資料型態是scipy.sparse.csr.csr_matrix，所以要轉乘array \n",
    "print(z, end=\"\\n--------------------\\n\")\n",
    "print(ohe.inverse_transform(z))"
   ]
  },
  {
   "cell_type": "code",
   "execution_count": 80,
   "id": "d119a35b",
   "metadata": {},
   "outputs": [
    {
     "name": "stdout",
     "output_type": "stream",
     "text": [
      "[[ 0.   1.   0.   1.   0.   0.   1.  10.1]\n",
      " [ 0.   0.   1.   0.   1.   0.   2.  13.5]\n",
      " [ 1.   0.   0.   0.   0.   1.   3.  15.3]]\n"
     ]
    }
   ],
   "source": [
    "print(np.hstack((ohe.fit_transform(df[['color','price']]).toarray(), df.iloc[:,1:3].values)))"
   ]
  },
  {
   "cell_type": "code",
   "execution_count": 81,
   "id": "bc932c24",
   "metadata": {},
   "outputs": [
    {
     "name": "stdout",
     "output_type": "stream",
     "text": [
      "   size  price  color_blue  color_green  color_red\n",
      "0     1   10.1           0            1          0\n",
      "1     2   13.5           0            0          1\n",
      "2     3   15.3           1            0          0\n"
     ]
    }
   ],
   "source": [
    "print(pd.get_dummies(df[['color', 'size', 'price']]))     # get_dummies() 只會將字串轉換成單熱編碼"
   ]
  }
 ],
 "metadata": {
  "kernelspec": {
   "display_name": "Python 3",
   "language": "python",
   "name": "python3"
  },
  "language_info": {
   "codemirror_mode": {
    "name": "ipython",
    "version": 3
   },
   "file_extension": ".py",
   "mimetype": "text/x-python",
   "name": "python",
   "nbconvert_exporter": "python",
   "pygments_lexer": "ipython3",
   "version": "3.8.11"
  }
 },
 "nbformat": 4,
 "nbformat_minor": 5
}
